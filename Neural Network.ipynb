{
 "cells": [
  {
   "cell_type": "code",
   "execution_count": 1,
   "id": "348afc8d",
   "metadata": {},
   "outputs": [],
   "source": [
    "import tensorflow as tf\n",
    "from tensorflow import keras\n",
    "import pandas as pd\n",
    "import numpy as np"
   ]
  },
  {
   "cell_type": "markdown",
   "id": "db415627",
   "metadata": {},
   "source": [
    "## 线性"
   ]
  },
  {
   "cell_type": "code",
   "execution_count": 2,
   "id": "e396bbc9",
   "metadata": {},
   "outputs": [],
   "source": [
    "train_df = pd.read_csv('linear_seg_point.csv')\n",
    "\n",
    "np.random.shuffle(train_df.values)"
   ]
  },
  {
   "cell_type": "code",
   "execution_count": 3,
   "id": "5dc3c148",
   "metadata": {},
   "outputs": [
    {
     "data": {
      "text/html": [
       "<div>\n",
       "<style scoped>\n",
       "    .dataframe tbody tr th:only-of-type {\n",
       "        vertical-align: middle;\n",
       "    }\n",
       "\n",
       "    .dataframe tbody tr th {\n",
       "        vertical-align: top;\n",
       "    }\n",
       "\n",
       "    .dataframe thead th {\n",
       "        text-align: right;\n",
       "    }\n",
       "</style>\n",
       "<table border=\"1\" class=\"dataframe\">\n",
       "  <thead>\n",
       "    <tr style=\"text-align: right;\">\n",
       "      <th></th>\n",
       "      <th>x</th>\n",
       "      <th>y</th>\n",
       "      <th>color</th>\n",
       "    </tr>\n",
       "  </thead>\n",
       "  <tbody>\n",
       "    <tr>\n",
       "      <th>0</th>\n",
       "      <td>1.874943</td>\n",
       "      <td>2.574542</td>\n",
       "      <td>0.0</td>\n",
       "    </tr>\n",
       "    <tr>\n",
       "      <th>1</th>\n",
       "      <td>2.010828</td>\n",
       "      <td>0.804972</td>\n",
       "      <td>1.0</td>\n",
       "    </tr>\n",
       "    <tr>\n",
       "      <th>2</th>\n",
       "      <td>4.835682</td>\n",
       "      <td>6.113364</td>\n",
       "      <td>0.0</td>\n",
       "    </tr>\n",
       "    <tr>\n",
       "      <th>3</th>\n",
       "      <td>2.620300</td>\n",
       "      <td>3.331512</td>\n",
       "      <td>0.0</td>\n",
       "    </tr>\n",
       "    <tr>\n",
       "      <th>4</th>\n",
       "      <td>4.576147</td>\n",
       "      <td>5.551908</td>\n",
       "      <td>0.0</td>\n",
       "    </tr>\n",
       "  </tbody>\n",
       "</table>\n",
       "</div>"
      ],
      "text/plain": [
       "          x         y  color\n",
       "0  1.874943  2.574542    0.0\n",
       "1  2.010828  0.804972    1.0\n",
       "2  4.835682  6.113364    0.0\n",
       "3  2.620300  3.331512    0.0\n",
       "4  4.576147  5.551908    0.0"
      ]
     },
     "execution_count": 3,
     "metadata": {},
     "output_type": "execute_result"
    }
   ],
   "source": [
    "train_df.head()"
   ]
  },
  {
   "cell_type": "code",
   "execution_count": 4,
   "id": "c43e462c",
   "metadata": {},
   "outputs": [],
   "source": [
    "model = keras.Sequential([\n",
    "    keras.layers.Dense(4, input_shape=(2,), activation='relu'),\n",
    "    keras.layers.Dense(2, activation='sigmoid')\n",
    "])\n",
    "\n",
    "model.compile(optimizer='adam',\n",
    "              loss=keras.losses.SparseCategoricalCrossentropy(\n",
    "                  from_logits=False),\n",
    "              metrics=['accuracy'])"
   ]
  },
  {
   "cell_type": "code",
   "execution_count": 5,
   "id": "0a65cb93",
   "metadata": {},
   "outputs": [
    {
     "name": "stdout",
     "output_type": "stream",
     "text": [
      "[1.8749428  2.01082838 4.83568175 2.62029964 4.57614667]\n",
      "<class 'numpy.ndarray'>\n"
     ]
    }
   ],
   "source": [
    "print(train_df.x.values[0:5])\n",
    "print(type(train_df.x.values))"
   ]
  },
  {
   "cell_type": "code",
   "execution_count": 6,
   "id": "83ab5b45",
   "metadata": {},
   "outputs": [
    {
     "name": "stdout",
     "output_type": "stream",
     "text": [
      "Epoch 1/10\n",
      "125/125 [==============================] - 0s 860us/step - loss: 1.5544 - accuracy: 0.5178\n",
      "Epoch 2/10\n",
      "125/125 [==============================] - 0s 732us/step - loss: 0.5391 - accuracy: 0.8145\n",
      "Epoch 3/10\n",
      "125/125 [==============================] - 0s 791us/step - loss: 0.2967 - accuracy: 1.0000\n",
      "Epoch 4/10\n",
      "125/125 [==============================] - 0s 772us/step - loss: 0.1465 - accuracy: 0.9998\n",
      "Epoch 5/10\n",
      "125/125 [==============================] - 0s 885us/step - loss: 0.0991 - accuracy: 0.9995\n",
      "Epoch 6/10\n",
      "125/125 [==============================] - 0s 780us/step - loss: 0.0731 - accuracy: 0.9995\n",
      "Epoch 7/10\n",
      "125/125 [==============================] - 0s 816us/step - loss: 0.0565 - accuracy: 0.9998\n",
      "Epoch 8/10\n",
      "125/125 [==============================] - 0s 756us/step - loss: 0.0452 - accuracy: 1.0000\n",
      "Epoch 9/10\n",
      "125/125 [==============================] - 0s 796us/step - loss: 0.0370 - accuracy: 1.0000\n",
      "Epoch 10/10\n",
      "125/125 [==============================] - 0s 732us/step - loss: 0.0309 - accuracy: 1.0000\n"
     ]
    },
    {
     "data": {
      "text/plain": [
       "<keras.callbacks.History at 0x252902bcd30>"
      ]
     },
     "execution_count": 6,
     "metadata": {},
     "output_type": "execute_result"
    }
   ],
   "source": [
    "x = np.column_stack((train_df.x.values, train_df.y.values))\n",
    "model.fit(x, train_df.color.values, batch_size=32, epochs=10)"
   ]
  },
  {
   "cell_type": "code",
   "execution_count": 7,
   "id": "63fb59bb",
   "metadata": {},
   "outputs": [
    {
     "name": "stdout",
     "output_type": "stream",
     "text": [
      "32/32 [==============================] - 0s 708us/step - loss: 0.0274 - accuracy: 1.0000\n"
     ]
    },
    {
     "data": {
      "text/plain": [
       "[0.027427038177847862, 1.0]"
      ]
     },
     "execution_count": 7,
     "metadata": {},
     "output_type": "execute_result"
    }
   ],
   "source": [
    "test_df = pd.read_csv('linear_seg_point_test.csv')\n",
    "\n",
    "test_x = np.column_stack((test_df.x.values, test_df.y.values))\n",
    "\n",
    "model.evaluate(test_x, test_df.color.values)"
   ]
  },
  {
   "cell_type": "markdown",
   "id": "5c669865",
   "metadata": {},
   "source": [
    "## 非线性"
   ]
  },
  {
   "cell_type": "code",
   "execution_count": 8,
   "id": "c05f90d5",
   "metadata": {},
   "outputs": [
    {
     "name": "stdout",
     "output_type": "stream",
     "text": [
      "Epoch 1/10\n",
      "125/125 [==============================] - 0s 829us/step - loss: 0.6244 - accuracy: 0.6532\n",
      "Epoch 2/10\n",
      "125/125 [==============================] - 0s 813us/step - loss: 0.5259 - accuracy: 0.7523\n",
      "Epoch 3/10\n",
      "125/125 [==============================] - 0s 913us/step - loss: 0.4519 - accuracy: 0.8098\n",
      "Epoch 4/10\n",
      "125/125 [==============================] - 0s 812us/step - loss: 0.3554 - accuracy: 0.8785\n",
      "Epoch 5/10\n",
      "125/125 [==============================] - 0s 919us/step - loss: 0.2695 - accuracy: 0.9302\n",
      "Epoch 6/10\n",
      "125/125 [==============================] - 0s 854us/step - loss: 0.2100 - accuracy: 0.9452\n",
      "Epoch 7/10\n",
      "125/125 [==============================] - 0s 813us/step - loss: 0.1660 - accuracy: 0.9693\n",
      "Epoch 8/10\n",
      "125/125 [==============================] - 0s 1ms/step - loss: 0.1346 - accuracy: 0.9803\n",
      "Epoch 9/10\n",
      "125/125 [==============================] - 0s 837us/step - loss: 0.1110 - accuracy: 0.9890\n",
      "Epoch 10/10\n",
      "125/125 [==============================] - 0s 852us/step - loss: 0.0965 - accuracy: 0.9900\n"
     ]
    },
    {
     "data": {
      "text/plain": [
       "<keras.callbacks.History at 0x25298b25a30>"
      ]
     },
     "execution_count": 8,
     "metadata": {},
     "output_type": "execute_result"
    }
   ],
   "source": [
    "train_df = pd.read_csv('pol_seg_point.csv')\n",
    "\n",
    "np.random.shuffle(train_df.values)\n",
    "\n",
    "model = keras.Sequential([\n",
    "    keras.layers.Dense(16, input_shape=(2,), activation='relu'),\n",
    "    keras.layers.Dense(8, activation='relu'),\n",
    "    #keras.layers.Dropout(0.2),\n",
    "    keras.layers.Dense(8, activation='relu'),\n",
    "    keras.layers.Dense(2, activation='sigmoid')\n",
    "])\n",
    "\n",
    "model.compile(optimizer='adam',\n",
    "              loss=keras.losses.SparseCategoricalCrossentropy(\n",
    "                  from_logits=False),\n",
    "              metrics=['accuracy'])\n",
    "\n",
    "\n",
    "x = np.column_stack((train_df.x.values, train_df.y.values))\n",
    "model.fit(x, train_df.color.values, batch_size=32, epochs=10)"
   ]
  },
  {
   "cell_type": "code",
   "execution_count": 9,
   "id": "ea0eaeb1",
   "metadata": {},
   "outputs": [
    {
     "name": "stdout",
     "output_type": "stream",
     "text": [
      "32/32 [==============================] - 0s 740us/step - loss: 0.0819 - accuracy: 0.9910\n"
     ]
    },
    {
     "data": {
      "text/plain": [
       "[0.08191448450088501, 0.9909999966621399]"
      ]
     },
     "execution_count": 9,
     "metadata": {},
     "output_type": "execute_result"
    }
   ],
   "source": [
    "test_df = pd.read_csv('pol_seg_point_test.csv')\n",
    "\n",
    "test_x = np.column_stack((test_df.x.values, test_df.y.values))\n",
    "\n",
    "model.evaluate(test_x, test_df.color.values)"
   ]
  },
  {
   "cell_type": "markdown",
   "id": "51c20572",
   "metadata": {},
   "source": [
    "## 六块长方形区域的分类"
   ]
  },
  {
   "cell_type": "code",
   "execution_count": 10,
   "id": "3ffbcb2f",
   "metadata": {},
   "outputs": [
    {
     "name": "stdout",
     "output_type": "stream",
     "text": [
      "Epoch 1/10\n",
      "188/188 [==============================] - 0s 908us/step - loss: 1.4389 - accuracy: 0.4945\n",
      "Epoch 2/10\n",
      "188/188 [==============================] - 0s 1ms/step - loss: 0.8003 - accuracy: 0.6365\n",
      "Epoch 3/10\n",
      "188/188 [==============================] - 0s 1ms/step - loss: 0.5086 - accuracy: 0.8227\n",
      "Epoch 4/10\n",
      "188/188 [==============================] - 0s 939us/step - loss: 0.3243 - accuracy: 0.9003\n",
      "Epoch 5/10\n",
      "188/188 [==============================] - 0s 1ms/step - loss: 0.2335 - accuracy: 0.9307\n",
      "Epoch 6/10\n",
      "188/188 [==============================] - 0s 936us/step - loss: 0.1831 - accuracy: 0.9480\n",
      "Epoch 7/10\n",
      "188/188 [==============================] - 0s 949us/step - loss: 0.1534 - accuracy: 0.9595\n",
      "Epoch 8/10\n",
      "188/188 [==============================] - 0s 1ms/step - loss: 0.1300 - accuracy: 0.9695\n",
      "Epoch 9/10\n",
      "188/188 [==============================] - 0s 1ms/step - loss: 0.1154 - accuracy: 0.9730\n",
      "Epoch 10/10\n",
      "188/188 [==============================] - 0s 974us/step - loss: 0.1054 - accuracy: 0.9748\n"
     ]
    },
    {
     "data": {
      "text/plain": [
       "<keras.callbacks.History at 0x25297955f40>"
      ]
     },
     "execution_count": 10,
     "metadata": {},
     "output_type": "execute_result"
    }
   ],
   "source": [
    "train_df = pd.read_csv('six_areas_seg.csv')\n",
    "\n",
    "color_dict = {'red':0, 'blue':1, 'green':2, 'teal':3, 'orange':4, 'purple':5}\n",
    "train_df['color'] = train_df['color'].apply(lambda x: color_dict[x])\n",
    "\n",
    "np.random.shuffle(train_df.values)\n",
    "\n",
    "model = keras.Sequential([\n",
    "    keras.layers.Dense(32, input_shape=(2,), activation='relu'),\n",
    "    keras.layers.Dense(16, activation='relu'),\n",
    "    #keras.layers.Dropout(0.2),\n",
    "    keras.layers.Dense(8, activation='relu'),\n",
    "    keras.layers.Dense(6, activation='sigmoid')\n",
    "])\n",
    "\n",
    "model.compile(optimizer='adam',\n",
    "              loss=keras.losses.SparseCategoricalCrossentropy(\n",
    "                  from_logits=False),\n",
    "              metrics=['accuracy'])\n",
    "\n",
    "\n",
    "x = np.column_stack((train_df.x.values, train_df.y.values))\n",
    "model.fit(x, train_df.color.values, batch_size=32, epochs=10)"
   ]
  },
  {
   "cell_type": "code",
   "execution_count": 11,
   "id": "7c7b73e0",
   "metadata": {},
   "outputs": [
    {
     "name": "stdout",
     "output_type": "stream",
     "text": [
      "38/38 [==============================] - 0s 890us/step - loss: 0.1080 - accuracy: 0.9800\n"
     ]
    },
    {
     "data": {
      "text/plain": [
       "[0.10800415277481079, 0.9800000190734863]"
      ]
     },
     "execution_count": 11,
     "metadata": {},
     "output_type": "execute_result"
    }
   ],
   "source": [
    "test_df = pd.read_csv('six_areas_seg_test.csv')\n",
    "\n",
    "test_x = np.column_stack((test_df.x.values, test_df.y.values))\n",
    "\n",
    "test_df['color'] = test_df['color'].apply(lambda x: color_dict[x])\n",
    "\n",
    "model.evaluate(test_x, test_df.color.values)"
   ]
  },
  {
   "cell_type": "code",
   "execution_count": 12,
   "id": "0b098053",
   "metadata": {},
   "outputs": [
    {
     "name": "stdout",
     "output_type": "stream",
     "text": [
      "1/1 [==============================] - 0s 75ms/step\n",
      "Prediction [[0. 0. 0. 0. 0. 1.]]\n"
     ]
    }
   ],
   "source": [
    "print(\"Prediction\", np.round(model.predict(np.array([[0,3]]))))"
   ]
  },
  {
   "cell_type": "markdown",
   "id": "2743454f",
   "metadata": {},
   "source": [
    "## Two Categories"
   ]
  },
  {
   "cell_type": "code",
   "execution_count": 13,
   "id": "5b896897",
   "metadata": {},
   "outputs": [
    {
     "name": "stdout",
     "output_type": "stream",
     "text": [
      "Epoch 1/10\n",
      "750/750 [==============================] - 1s 988us/step - loss: 0.2382 - accuracy: 0.1947\n",
      "Epoch 2/10\n",
      "750/750 [==============================] - 1s 910us/step - loss: 0.0789 - accuracy: 0.3167\n",
      "Epoch 3/10\n",
      "750/750 [==============================] - 1s 1ms/step - loss: 0.0523 - accuracy: 0.3017\n",
      "Epoch 4/10\n",
      "750/750 [==============================] - 1s 800us/step - loss: 0.0450 - accuracy: 0.2883\n",
      "Epoch 5/10\n",
      "750/750 [==============================] - 1s 874us/step - loss: 0.0422 - accuracy: 0.2857\n",
      "Epoch 6/10\n",
      "750/750 [==============================] - 1s 839us/step - loss: 0.0397 - accuracy: 0.2962\n",
      "Epoch 7/10\n",
      "750/750 [==============================] - 1s 803us/step - loss: 0.0366 - accuracy: 0.2975\n",
      "Epoch 8/10\n",
      "750/750 [==============================] - 1s 848us/step - loss: 0.0337 - accuracy: 0.2930\n",
      "Epoch 9/10\n",
      "750/750 [==============================] - 1s 796us/step - loss: 0.0343 - accuracy: 0.2793\n",
      "Epoch 10/10\n",
      "750/750 [==============================] - 1s 788us/step - loss: 0.0352 - accuracy: 0.2742\n"
     ]
    },
    {
     "data": {
      "text/plain": [
       "<keras.callbacks.History at 0x2529ad607f0>"
      ]
     },
     "execution_count": 13,
     "metadata": {},
     "output_type": "execute_result"
    }
   ],
   "source": [
    "train_df = pd.read_csv('clusters_two_categories.csv')\n",
    "\n",
    "one_hot_color = pd.get_dummies(train_df['color']).values\n",
    "one_hot_marker = pd.get_dummies(train_df['marker']).values\n",
    "\n",
    "labels = np.concatenate((one_hot_color, one_hot_marker), axis=1)\n",
    "\n",
    "# np.random.shuffle(train_df.values)\n",
    "\n",
    "model = keras.Sequential([\n",
    "    keras.layers.Dense(128, input_shape=(2,), activation='relu'),\n",
    "    keras.layers.Dense(32, activation='relu'),\n",
    "    keras.layers.Dropout(0.2),\n",
    "    keras.layers.Dense(64, activation='relu'),\n",
    "    keras.layers.Dense(9, activation='sigmoid')\n",
    "])\n",
    "\n",
    "model.compile(optimizer='adam',\n",
    "              loss=keras.losses.BinaryCrossentropy(\n",
    "                  from_logits=False),\n",
    "              metrics=['accuracy'])\n",
    "\n",
    "\n",
    "x = np.column_stack((train_df.x.values, train_df.y.values))\n",
    "\n",
    "np.random.RandomState(seed=42).shuffle(x)\n",
    "np.random.RandomState(seed=42).shuffle(labels)\n",
    "\n",
    "model.fit(x, labels, batch_size=8, epochs=10)"
   ]
  },
  {
   "cell_type": "code",
   "execution_count": 14,
   "id": "fc991da4",
   "metadata": {},
   "outputs": [
    {
     "name": "stdout",
     "output_type": "stream",
     "text": [
      "38/38 [==============================] - 0s 781us/step - loss: 0.0322 - accuracy: 0.3167\n"
     ]
    },
    {
     "data": {
      "text/plain": [
       "[0.03215043619275093, 0.3166666626930237]"
      ]
     },
     "execution_count": 14,
     "metadata": {},
     "output_type": "execute_result"
    }
   ],
   "source": [
    "test_df = pd.read_csv('clusters_two_categories_test.csv')\n",
    "\n",
    "test_one_hot_color = pd.get_dummies(test_df['color']).values\n",
    "test_one_hot_marker = pd.get_dummies(test_df['marker']).values\n",
    "\n",
    "test_x = np.column_stack((test_df.x.values, test_df.y.values))\n",
    "\n",
    "test_labels = np.concatenate((test_one_hot_color, test_one_hot_marker), axis=1)\n",
    "\n",
    "model.evaluate(test_x, test_labels)"
   ]
  },
  {
   "cell_type": "code",
   "execution_count": null,
   "id": "bf2b1b18",
   "metadata": {},
   "outputs": [],
   "source": []
  }
 ],
 "metadata": {
  "kernelspec": {
   "display_name": "Python 3 (ipykernel)",
   "language": "python",
   "name": "python3"
  },
  "language_info": {
   "codemirror_mode": {
    "name": "ipython",
    "version": 3
   },
   "file_extension": ".py",
   "mimetype": "text/x-python",
   "name": "python",
   "nbconvert_exporter": "python",
   "pygments_lexer": "ipython3",
   "version": "3.9.13"
  }
 },
 "nbformat": 4,
 "nbformat_minor": 5
}
