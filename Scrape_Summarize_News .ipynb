{
 "cells": [
  {
   "cell_type": "markdown",
   "metadata": {},
   "source": [
    "# 1. Install and Import Baseline Dependencies"
   ]
  },
  {
   "cell_type": "code",
   "execution_count": 1,
   "metadata": {},
   "outputs": [],
   "source": [
    "#!pip install transformers"
   ]
  },
  {
   "cell_type": "code",
   "execution_count": 2,
   "metadata": {},
   "outputs": [],
   "source": [
    "from transformers import PegasusTokenizer, PegasusForConditionalGeneration\n",
    "from bs4 import BeautifulSoup\n",
    "import requests"
   ]
  },
  {
   "cell_type": "markdown",
   "metadata": {},
   "source": [
    "# 2. Setup Summarization Model"
   ]
  },
  {
   "cell_type": "code",
   "execution_count": 3,
   "metadata": {},
   "outputs": [],
   "source": [
    "model_name = \"human-centered-summarization/financial-summarization-pegasus\"\n",
    "tokenizer = PegasusTokenizer.from_pretrained(model_name)\n",
    "model = PegasusForConditionalGeneration.from_pretrained(model_name)"
   ]
  },
  {
   "cell_type": "markdown",
   "metadata": {},
   "source": [
    "# 3. Summarize a Single Article"
   ]
  },
  {
   "cell_type": "code",
   "execution_count": 4,
   "metadata": {},
   "outputs": [],
   "source": [
    "url = \"https://au.finance.yahoo.com/news/china-restricting-tesla-use-uncovers-a-significant-challenge-for-elon-musk-expert-161921664.html\"\n",
    "r = requests.get(url)\n",
    "soup = BeautifulSoup(r.text, 'html.parser')\n",
    "paragraphs = soup.find_all('p')"
   ]
  },
  {
   "cell_type": "code",
   "execution_count": 5,
   "metadata": {},
   "outputs": [
    {
     "data": {
      "text/plain": [
       "'Thank you for your patience.'"
      ]
     },
     "execution_count": 5,
     "metadata": {},
     "output_type": "execute_result"
    }
   ],
   "source": [
    "paragraphs[0].text"
   ]
  },
  {
   "cell_type": "code",
   "execution_count": 6,
   "metadata": {},
   "outputs": [],
   "source": [
    "text = [paragraph.text for paragraph in paragraphs]\n",
    "words = ' '.join(text).split(' ')[:400]\n",
    "ARTICLE = ' '.join(words)"
   ]
  },
  {
   "cell_type": "code",
   "execution_count": 7,
   "metadata": {},
   "outputs": [
    {
     "data": {
      "text/plain": [
       "'Thank you for your patience. Our engineers are working quickly to resolve the issue.'"
      ]
     },
     "execution_count": 7,
     "metadata": {},
     "output_type": "execute_result"
    }
   ],
   "source": [
    "ARTICLE"
   ]
  },
  {
   "cell_type": "code",
   "execution_count": 8,
   "metadata": {},
   "outputs": [],
   "source": [
    "input_ids = tokenizer.encode(ARTICLE, return_tensors='pt')\n",
    "output = model.generate(input_ids, max_length=55,\n",
    "                        num_beams=5, early_stopping=True)\n",
    "summary = tokenizer.decode(output[0], skip_special_tokens=True)"
   ]
  },
  {
   "cell_type": "code",
   "execution_count": 9,
   "metadata": {},
   "outputs": [
    {
     "data": {
      "text/plain": [
       "'We are aware of the issue and are working to resolve it.'"
      ]
     },
     "execution_count": 9,
     "metadata": {},
     "output_type": "execute_result"
    }
   ],
   "source": [
    "summary"
   ]
  },
  {
   "cell_type": "markdown",
   "metadata": {},
   "source": [
    "# 4. Building a News and Sentiment Pipeline"
   ]
  },
  {
   "cell_type": "code",
   "execution_count": 10,
   "metadata": {},
   "outputs": [],
   "source": [
    "monitored_tickers = ['GME', 'TSLA', 'BTC']"
   ]
  },
  {
   "cell_type": "markdown",
   "metadata": {},
   "source": [
    "## 4.1. Search for Stock News using Google and Yahoo Finance"
   ]
  },
  {
   "cell_type": "code",
   "execution_count": 11,
   "metadata": {},
   "outputs": [],
   "source": [
    "def search_for_stock_news_urls(ticker):\n",
    "    search_url = \"https://www.google.com/search?q=yahoo+finance+{}&tbm=nws\".format(ticker)\n",
    "    r = requests.get(search_url)\n",
    "    soup = BeautifulSoup(r.text, 'html.parser')\n",
    "    atags = soup.find_all('a')\n",
    "    hrefs = [link['href'] for link in atags]\n",
    "    return hrefs"
   ]
  },
  {
   "cell_type": "code",
   "execution_count": 12,
   "metadata": {
    "collapsed": true
   },
   "outputs": [
    {
     "data": {
      "text/plain": [
       "{'GME': ['/?sa=X&ved=0ahUKEwjotLC-49z8AhURDkQIHfySANsQOwgC',\n",
       "  '/search?q=yahoo+finance+GME&tbm=nws&ie=UTF-8&gbv=1&sei=pALOY-jSBJGckPIP_KWC2A0',\n",
       "  '/search?q=yahoo+finance+GME&ie=UTF-8&source=lnms&sa=X&ved=0ahUKEwjotLC-49z8AhURDkQIHfySANsQ_AUIBSgA',\n",
       "  '/search?q=yahoo+finance+GME&ie=UTF-8&tbm=vid&source=lnms&sa=X&ved=0ahUKEwjotLC-49z8AhURDkQIHfySANsQ_AUIBygC',\n",
       "  '/search?q=yahoo+finance+GME&ie=UTF-8&tbm=isch&source=lnms&sa=X&ved=0ahUKEwjotLC-49z8AhURDkQIHfySANsQ_AUICCgD',\n",
       "  'https://maps.google.com/maps?q=yahoo+finance+GME&um=1&ie=UTF-8&sa=X&ved=0ahUKEwjotLC-49z8AhURDkQIHfySANsQ_AUICSgE',\n",
       "  '/search?q=yahoo+finance+GME&ie=UTF-8&tbm=shop&source=lnms&sa=X&ved=0ahUKEwjotLC-49z8AhURDkQIHfySANsQ_AUICigF',\n",
       "  '/search?q=yahoo+finance+GME&ie=UTF-8&tbm=bks&source=lnms&sa=X&ved=0ahUKEwjotLC-49z8AhURDkQIHfySANsQ_AUICygG',\n",
       "  '/advanced_search',\n",
       "  '/search?q=yahoo+finance+GME&ie=UTF-8&tbm=nws&source=lnt&tbs=qdr:h&sa=X&ved=0ahUKEwjotLC-49z8AhURDkQIHfySANsQpwUIDQ',\n",
       "  '/search?q=yahoo+finance+GME&ie=UTF-8&tbm=nws&source=lnt&tbs=qdr:d&sa=X&ved=0ahUKEwjotLC-49z8AhURDkQIHfySANsQpwUIDg',\n",
       "  '/search?q=yahoo+finance+GME&ie=UTF-8&tbm=nws&source=lnt&tbs=qdr:w&sa=X&ved=0ahUKEwjotLC-49z8AhURDkQIHfySANsQpwUIDw',\n",
       "  '/search?q=yahoo+finance+GME&ie=UTF-8&tbm=nws&source=lnt&tbs=qdr:m&sa=X&ved=0ahUKEwjotLC-49z8AhURDkQIHfySANsQpwUIEA',\n",
       "  '/search?q=yahoo+finance+GME&ie=UTF-8&tbm=nws&source=lnt&tbs=qdr:y&sa=X&ved=0ahUKEwjotLC-49z8AhURDkQIHfySANsQpwUIEQ',\n",
       "  '/search?q=yahoo+finance+GME&ie=UTF-8&tbm=nws&source=lnt&tbs=ar:1&sa=X&ved=0ahUKEwjotLC-49z8AhURDkQIHfySANsQpwUIEg',\n",
       "  '/search?q=yahoo+finance+GME&ie=UTF-8&tbm=nws&source=lnt&tbs=sbd:1&sa=X&ved=0ahUKEwjotLC-49z8AhURDkQIHfySANsQpwUIFA',\n",
       "  '/url?q=https://finance.yahoo.com/news/meme-stock-billionaire-alibaba-wager-094812107.html&sa=U&ved=2ahUKEwjotLC-49z8AhURDkQIHfySANsQxfQBegQIBhAC&usg=AOvVaw2fgYf_WpqCZSPV0f0m-xUD',\n",
       "  '/url?q=https://finance.yahoo.com/news/down-28-91-4-weeks-143502058.html&sa=U&ved=2ahUKEwjotLC-49z8AhURDkQIHfySANsQxfQBegQICRAC&usg=AOvVaw0davpH-ezKHnSdxH13MTnA',\n",
       "  '/url?q=https://finance.yahoo.com/news/chamath-palihapitiya-stocks-10-stocks-160502053.html&sa=U&ved=2ahUKEwjotLC-49z8AhURDkQIHfySANsQxfQBegQIAxAC&usg=AOvVaw2415woxZy3tUzfdiNFQ1cH',\n",
       "  '/url?q=https://finance.yahoo.com/news/morningstar-ceos-message-to-meme-stock-investors-162841912.html&sa=U&ved=2ahUKEwjotLC-49z8AhURDkQIHfySANsQxfQBegQICBAC&usg=AOvVaw06M-Oc0agot6nODIChB4by',\n",
       "  '/url?q=https://finance.yahoo.com/news/my-meme-stock-fiasco-153417561.html&sa=U&ved=2ahUKEwjotLC-49z8AhURDkQIHfySANsQxfQBegQIBRAC&usg=AOvVaw0EfHMkocZGseZyrF5gV6cX',\n",
       "  '/url?q=https://finance.yahoo.com/news/the-game-stop-turnaround-promise-is-failing-111117027.html&sa=U&ved=2ahUKEwjotLC-49z8AhURDkQIHfySANsQxfQBegQIAhAC&usg=AOvVaw3SPX_U9bOvh6DD2f__gfBy',\n",
       "  '/url?q=https://finance.yahoo.com/news/after-hours-stock-movers-game-stop-rent-the-runway-c-3-ai-and-more-232228102.html&sa=U&ved=2ahUKEwjotLC-49z8AhURDkQIHfySANsQxfQBegQIBBAC&usg=AOvVaw2kOuqJdo7CiXuWcnImUeUS',\n",
       "  '/url?q=https://finance.yahoo.com/news/mark-cuban-stock-portfolio-10-211950824.html&sa=U&ved=2ahUKEwjotLC-49z8AhURDkQIHfySANsQxfQBegQIABAC&usg=AOvVaw1lglvVBXPP7DrS7Ly_bdAb',\n",
       "  '/url?q=https://finance.yahoo.com/news/why-game-stop-stock-is-probably-dead-money-for-a-while-according-to-one-analyst-180851839.html&sa=U&ved=2ahUKEwjotLC-49z8AhURDkQIHfySANsQxfQBegQIARAC&usg=AOvVaw0HKUL2ZAszoVvnmFXT0r5K',\n",
       "  '/url?q=https://finance.yahoo.com/news/meme-stock-mania-5-lessons-220010930.html&sa=U&ved=2ahUKEwjotLC-49z8AhURDkQIHfySANsQxfQBegQIBxAC&usg=AOvVaw0r23sdb0vOf7Mcqxwtzv-h',\n",
       "  '/search?q=yahoo+finance+GME&ie=UTF-8&tbm=nws&ei=pALOY-jSBJGckPIP_KWC2A0&start=10&sa=N',\n",
       "  '/url?q=https://support.google.com/websearch%3Fp%3Dws_settings_location%26hl%3Den&sa=U&ved=0ahUKEwjotLC-49z8AhURDkQIHfySANsQty4IUw&usg=AOvVaw0pNhiGviDp0CTHGTJSIAPd',\n",
       "  '/url?q=https://accounts.google.com/ServiceLogin%3Fcontinue%3Dhttps://www.google.com/search%253Fq%253Dyahoo%252Bfinance%252BGME%2526tbm%253Dnws%26hl%3Den&sa=U&ved=0ahUKEwjotLC-49z8AhURDkQIHfySANsQxs8CCFQ&usg=AOvVaw0dHwe9kPd_ZaKJBpHWD7O0',\n",
       "  'https://www.google.com/preferences?hl=en&fg=1&sa=X&ved=0ahUKEwjotLC-49z8AhURDkQIHfySANsQ5fUCCFU',\n",
       "  'https://policies.google.com/privacy?hl=en&fg=1',\n",
       "  'https://policies.google.com/terms?hl=en&fg=1'],\n",
       " 'TSLA': ['/?sa=X&ved=0ahUKEwiAzfm-49z8AhV3HUQIHXluBYYQOwgC',\n",
       "  '/search?q=yahoo+finance+TSLA&tbm=nws&ie=UTF-8&gbv=1&sei=pQLOY8DmEPe6kPIP-dyVsAg',\n",
       "  '/search?q=yahoo+finance+TSLA&ie=UTF-8&source=lnms&sa=X&ved=0ahUKEwiAzfm-49z8AhV3HUQIHXluBYYQ_AUIBSgA',\n",
       "  '/search?q=yahoo+finance+TSLA&ie=UTF-8&tbm=isch&source=lnms&sa=X&ved=0ahUKEwiAzfm-49z8AhV3HUQIHXluBYYQ_AUIBygC',\n",
       "  '/search?q=yahoo+finance+TSLA&ie=UTF-8&tbm=vid&source=lnms&sa=X&ved=0ahUKEwiAzfm-49z8AhV3HUQIHXluBYYQ_AUICCgD',\n",
       "  'https://maps.google.com/maps?q=yahoo+finance+TSLA&um=1&ie=UTF-8&sa=X&ved=0ahUKEwiAzfm-49z8AhV3HUQIHXluBYYQ_AUICSgE',\n",
       "  '/search?q=yahoo+finance+TSLA&ie=UTF-8&tbm=shop&source=lnms&sa=X&ved=0ahUKEwiAzfm-49z8AhV3HUQIHXluBYYQ_AUICigF',\n",
       "  '/search?q=yahoo+finance+TSLA&ie=UTF-8&tbm=bks&source=lnms&sa=X&ved=0ahUKEwiAzfm-49z8AhV3HUQIHXluBYYQ_AUICygG',\n",
       "  '/advanced_search',\n",
       "  '/search?q=yahoo+finance+TSLA&ie=UTF-8&tbm=nws&source=lnt&tbs=qdr:h&sa=X&ved=0ahUKEwiAzfm-49z8AhV3HUQIHXluBYYQpwUIDQ',\n",
       "  '/search?q=yahoo+finance+TSLA&ie=UTF-8&tbm=nws&source=lnt&tbs=qdr:d&sa=X&ved=0ahUKEwiAzfm-49z8AhV3HUQIHXluBYYQpwUIDg',\n",
       "  '/search?q=yahoo+finance+TSLA&ie=UTF-8&tbm=nws&source=lnt&tbs=qdr:w&sa=X&ved=0ahUKEwiAzfm-49z8AhV3HUQIHXluBYYQpwUIDw',\n",
       "  '/search?q=yahoo+finance+TSLA&ie=UTF-8&tbm=nws&source=lnt&tbs=qdr:m&sa=X&ved=0ahUKEwiAzfm-49z8AhV3HUQIHXluBYYQpwUIEA',\n",
       "  '/search?q=yahoo+finance+TSLA&ie=UTF-8&tbm=nws&source=lnt&tbs=qdr:y&sa=X&ved=0ahUKEwiAzfm-49z8AhV3HUQIHXluBYYQpwUIEQ',\n",
       "  '/search?q=yahoo+finance+TSLA&ie=UTF-8&tbm=nws&source=lnt&tbs=ar:1&sa=X&ved=0ahUKEwiAzfm-49z8AhV3HUQIHXluBYYQpwUIEg',\n",
       "  '/search?q=yahoo+finance+TSLA&ie=UTF-8&tbm=nws&source=lnt&tbs=sbd:1&sa=X&ved=0ahUKEwiAzfm-49z8AhV3HUQIHXluBYYQpwUIFA',\n",
       "  '/url?q=https://finance.yahoo.com/news/the-tweets-are-truthful-elon-musk-takes-witness-stand-to-defend-2018-tesla-tweet-223444555.html&sa=U&ved=2ahUKEwiAzfm-49z8AhV3HUQIHXluBYYQxfQBegQIBBAC&usg=AOvVaw2dqXsFxuDUoFgnZZ0u7-iG',\n",
       "  '/url?q=https://finance.yahoo.com/video/tech-earnings-expected-next-week-220043104.html&sa=U&ved=2ahUKEwiAzfm-49z8AhV3HUQIHXluBYYQxfQBegQICRAC&usg=AOvVaw3u_FqV2BDsmUWusOQzvgEm',\n",
       "  '/url?q=https://finance.yahoo.com/news/elon-musk-could-be-called-friday-in-tesla-tweet-trial-194338256.html&sa=U&ved=2ahUKEwiAzfm-49z8AhV3HUQIHXluBYYQxfQBegQIARAC&usg=AOvVaw0PoE4cDlri7iXqdabLvl-1',\n",
       "  '/url?q=https://finance.yahoo.com/news/1-tesla-pushes-back-model-155655672.html&sa=U&ved=2ahUKEwiAzfm-49z8AhV3HUQIHXluBYYQxfQBegQIABAC&usg=AOvVaw1iPmBOF8cT5oqtZjBsN_H7',\n",
       "  '/url?q=https://finance.yahoo.com/news/tesla-china-price-cuts-boosting-buying-sentiment-survey-says-145532342.html&sa=U&ved=2ahUKEwiAzfm-49z8AhV3HUQIHXluBYYQxfQBegQIAxAC&usg=AOvVaw1KCwmwcaxtCyfShsk3qYPe',\n",
       "  '/url?q=https://finance.yahoo.com/news/tesla-tsla-stock-declined-71-115731039.html&sa=U&ved=2ahUKEwiAzfm-49z8AhV3HUQIHXluBYYQxfQBegQIBhAC&usg=AOvVaw0YZEq0T2PX24gma7jjXfel',\n",
       "  '/url?q=https://finance.yahoo.com/news/tesla-tsla-dips-more-broader-224510061.html&sa=U&ved=2ahUKEwiAzfm-49z8AhV3HUQIHXluBYYQxfQBegQIAhAC&usg=AOvVaw07iIw_VLND51t-6DfcOhqz',\n",
       "  '/url?q=https://finance.yahoo.com/news/tesla-drops-top-10-stocks-011730173.html&sa=U&ved=2ahUKEwiAzfm-49z8AhV3HUQIHXluBYYQxfQBegQIBxAC&usg=AOvVaw114nldkYJUXZzv1xIeg7xh',\n",
       "  '/url?q=https://finance.yahoo.com/news/analysts-cutting-price-targets-10-222450139.html&sa=U&ved=2ahUKEwiAzfm-49z8AhV3HUQIHXluBYYQxfQBegQIBRAC&usg=AOvVaw3-3x24QQTWVvUrMlJCjJ2U',\n",
       "  '/url?q=https://finance.yahoo.com/news/pioneer-and-narcissistic-prospective-jurors-sound-off-on-elon-musk-as-jury-selection-begins-in-tesla-tweet-trial-221716158.html&sa=U&ved=2ahUKEwiAzfm-49z8AhV3HUQIHXluBYYQxfQBegQICBAC&usg=AOvVaw3ZgEEbB5gTiL2ZMQGK6ioX',\n",
       "  '/search?q=yahoo+finance+TSLA&ie=UTF-8&tbm=nws&ei=pQLOY8DmEPe6kPIP-dyVsAg&start=10&sa=N',\n",
       "  '/url?q=https://support.google.com/websearch%3Fp%3Dws_settings_location%26hl%3Den&sa=U&ved=0ahUKEwiAzfm-49z8AhV3HUQIHXluBYYQty4IUw&usg=AOvVaw1d6h2F_MXO_bUMVhl9UA63',\n",
       "  '/url?q=https://accounts.google.com/ServiceLogin%3Fcontinue%3Dhttps://www.google.com/search%253Fq%253Dyahoo%252Bfinance%252BTSLA%2526tbm%253Dnws%26hl%3Den&sa=U&ved=0ahUKEwiAzfm-49z8AhV3HUQIHXluBYYQxs8CCFQ&usg=AOvVaw02owfuee7KpFZrjaQDp7Bw',\n",
       "  'https://www.google.com/preferences?hl=en&fg=1&sa=X&ved=0ahUKEwiAzfm-49z8AhV3HUQIHXluBYYQ5fUCCFU',\n",
       "  'https://policies.google.com/privacy?hl=en&fg=1',\n",
       "  'https://policies.google.com/terms?hl=en&fg=1',\n",
       "  '/setprefs?hl=en&prev=https://www.google.com/search?q%3Dyahoo%2Bfinance%2BTSLA%26tbm%3Dnws%26pccc%3D1&sig=0_90o9LepqBQacP6ihpXHoKQ8q4H4%3D&cs=2&sa=X&ved=0ahUKEwiAzfm-49z8AhV3HUQIHXluBYYQjcAJCFY'],\n",
       " 'BTC': ['/?sa=X&ved=0ahUKEwjylMK_49z8AhV6LkQIHZ-5Dd4QOwgC',\n",
       "  '/search?q=yahoo+finance+BTC&tbm=nws&ie=UTF-8&gbv=1&sei=pgLOY_KpHPrckPIPn_O28A0',\n",
       "  '/search?q=yahoo+finance+BTC&ie=UTF-8&source=lnms&sa=X&ved=0ahUKEwjylMK_49z8AhV6LkQIHZ-5Dd4Q_AUIBSgA',\n",
       "  '/search?q=yahoo+finance+BTC&ie=UTF-8&tbm=isch&source=lnms&sa=X&ved=0ahUKEwjylMK_49z8AhV6LkQIHZ-5Dd4Q_AUIBygC',\n",
       "  '/search?q=yahoo+finance+BTC&ie=UTF-8&tbm=vid&source=lnms&sa=X&ved=0ahUKEwjylMK_49z8AhV6LkQIHZ-5Dd4Q_AUICCgD',\n",
       "  'https://maps.google.com/maps?q=yahoo+finance+BTC&um=1&ie=UTF-8&sa=X&ved=0ahUKEwjylMK_49z8AhV6LkQIHZ-5Dd4Q_AUICSgE',\n",
       "  '/search?q=yahoo+finance+BTC&ie=UTF-8&tbm=shop&source=lnms&sa=X&ved=0ahUKEwjylMK_49z8AhV6LkQIHZ-5Dd4Q_AUICigF',\n",
       "  '/search?q=yahoo+finance+BTC&ie=UTF-8&tbm=bks&source=lnms&sa=X&ved=0ahUKEwjylMK_49z8AhV6LkQIHZ-5Dd4Q_AUICygG',\n",
       "  '/advanced_search',\n",
       "  '/search?q=yahoo+finance+BTC&ie=UTF-8&tbm=nws&source=lnt&tbs=qdr:h&sa=X&ved=0ahUKEwjylMK_49z8AhV6LkQIHZ-5Dd4QpwUIDQ',\n",
       "  '/search?q=yahoo+finance+BTC&ie=UTF-8&tbm=nws&source=lnt&tbs=qdr:d&sa=X&ved=0ahUKEwjylMK_49z8AhV6LkQIHZ-5Dd4QpwUIDg',\n",
       "  '/search?q=yahoo+finance+BTC&ie=UTF-8&tbm=nws&source=lnt&tbs=qdr:w&sa=X&ved=0ahUKEwjylMK_49z8AhV6LkQIHZ-5Dd4QpwUIDw',\n",
       "  '/search?q=yahoo+finance+BTC&ie=UTF-8&tbm=nws&source=lnt&tbs=qdr:m&sa=X&ved=0ahUKEwjylMK_49z8AhV6LkQIHZ-5Dd4QpwUIEA',\n",
       "  '/search?q=yahoo+finance+BTC&ie=UTF-8&tbm=nws&source=lnt&tbs=qdr:y&sa=X&ved=0ahUKEwjylMK_49z8AhV6LkQIHZ-5Dd4QpwUIEQ',\n",
       "  '/search?q=yahoo+finance+BTC&ie=UTF-8&tbm=nws&source=lnt&tbs=ar:1&sa=X&ved=0ahUKEwjylMK_49z8AhV6LkQIHZ-5Dd4QpwUIEg',\n",
       "  '/search?q=yahoo+finance+BTC&ie=UTF-8&tbm=nws&source=lnt&tbs=sbd:1&sa=X&ved=0ahUKEwjylMK_49z8AhV6LkQIHZ-5Dd4QpwUIFA',\n",
       "  '/url?q=https://finance.yahoo.com/news/is-crypto-better-or-worse-since-its-collapse-heres-what-ceos-at-davos-said-180357129.html&sa=U&ved=2ahUKEwjylMK_49z8AhV6LkQIHZ-5Dd4QxfQBegQIAxAC&usg=AOvVaw3vvesuqz-fS87ciW2T25cX',\n",
       "  '/url?q=https://finance.yahoo.com/news/2-crypto-stocks-gearing-gains-225951344.html&sa=U&ved=2ahUKEwjylMK_49z8AhV6LkQIHZ-5Dd4QxfQBegQICRAC&usg=AOvVaw2dQCpoiX7vzKP6IyIcu5_x',\n",
       "  '/url?q=https://finance.yahoo.com/news/genesis-crypto-trading-arm-moving-233332894.html&sa=U&ved=2ahUKEwjylMK_49z8AhV6LkQIHZ-5Dd4QxfQBegQIBRAC&usg=AOvVaw1d8rOaLNhj6M_xExciJjap',\n",
       "  '/url?q=https://finance.yahoo.com/news/bitcoin-miner-1thash-sent-almost-212731819.html&sa=U&ved=2ahUKEwjylMK_49z8AhV6LkQIHZ-5Dd4QxfQBegQIARAC&usg=AOvVaw1HyMNMrBAmNKbt89KCmUrT',\n",
       "  '/url?q=https://finance.yahoo.com/news/markets-bitcoin-bounces-back-above-024051025.html&sa=U&ved=2ahUKEwjylMK_49z8AhV6LkQIHZ-5Dd4QxfQBegQIBhAC&usg=AOvVaw3TX290WdGlK8NnC99ml3fJ',\n",
       "  '/url?q=https://finance.yahoo.com/news/markets-bitcoin-ether-fall-u-015117987.html&sa=U&ved=2ahUKEwjylMK_49z8AhV6LkQIHZ-5Dd4QxfQBegQIBBAC&usg=AOvVaw1UsukInZXk5quUaNjohWdj',\n",
       "  '/url?q=https://finance.yahoo.com/news/justice-department-announce-major-international-151142730.html&sa=U&ved=2ahUKEwjylMK_49z8AhV6LkQIHZ-5Dd4QxfQBegQIABAC&usg=AOvVaw0hgg5CBaypUC6bFW5PuSoj',\n",
       "  '/url?q=https://finance.yahoo.com/news/nouriel-roubini-crypto-scam-144628068.html&sa=U&ved=2ahUKEwjylMK_49z8AhV6LkQIHZ-5Dd4QxfQBegQICBAC&usg=AOvVaw3c8AklXKucM6gJSC5Rl1gy',\n",
       "  '/url?q=https://finance.yahoo.com/news/congress-ftx-problem-1-3-152019700.html&sa=U&ved=2ahUKEwjylMK_49z8AhV6LkQIHZ-5Dd4QxfQBegQIAhAC&usg=AOvVaw1BeO1Bx3964IQwuunDs8YJ',\n",
       "  '/url?q=https://finance.yahoo.com/news/markets-bitcoin-holds-above-us-023001881.html&sa=U&ved=2ahUKEwjylMK_49z8AhV6LkQIHZ-5Dd4QxfQBegQIBxAC&usg=AOvVaw0Ito_kAKUDeLH1RVKx3LsV',\n",
       "  '/search?q=yahoo+finance+BTC&ie=UTF-8&tbm=nws&ei=pgLOY_KpHPrckPIPn_O28A0&start=10&sa=N',\n",
       "  '/url?q=https://support.google.com/websearch%3Fp%3Dws_settings_location%26hl%3Den&sa=U&ved=0ahUKEwjylMK_49z8AhV6LkQIHZ-5Dd4Qty4IUw&usg=AOvVaw3RJAP7R1ZFsada2urKUJY4',\n",
       "  '/url?q=https://accounts.google.com/ServiceLogin%3Fcontinue%3Dhttps://www.google.com/search%253Fq%253Dyahoo%252Bfinance%252BBTC%2526tbm%253Dnws%26hl%3Den&sa=U&ved=0ahUKEwjylMK_49z8AhV6LkQIHZ-5Dd4Qxs8CCFQ&usg=AOvVaw2fCLOTUmnWLLAKyzY-dwmw',\n",
       "  'https://www.google.com/preferences?hl=en&fg=1&sa=X&ved=0ahUKEwjylMK_49z8AhV6LkQIHZ-5Dd4Q5fUCCFU',\n",
       "  'https://policies.google.com/privacy?hl=en&fg=1',\n",
       "  'https://policies.google.com/terms?hl=en&fg=1']}"
      ]
     },
     "execution_count": 12,
     "metadata": {},
     "output_type": "execute_result"
    }
   ],
   "source": [
    "raw_urls = {ticker: search_for_stock_news_urls(ticker) for ticker in monitored_tickers}\n",
    "raw_urls"
   ]
  },
  {
   "cell_type": "code",
   "execution_count": 13,
   "metadata": {
    "collapsed": true
   },
   "outputs": [
    {
     "data": {
      "text/plain": [
       "['/?sa=X&ved=0ahUKEwjotLC-49z8AhURDkQIHfySANsQOwgC',\n",
       " '/search?q=yahoo+finance+GME&tbm=nws&ie=UTF-8&gbv=1&sei=pALOY-jSBJGckPIP_KWC2A0',\n",
       " '/search?q=yahoo+finance+GME&ie=UTF-8&source=lnms&sa=X&ved=0ahUKEwjotLC-49z8AhURDkQIHfySANsQ_AUIBSgA',\n",
       " '/search?q=yahoo+finance+GME&ie=UTF-8&tbm=vid&source=lnms&sa=X&ved=0ahUKEwjotLC-49z8AhURDkQIHfySANsQ_AUIBygC',\n",
       " '/search?q=yahoo+finance+GME&ie=UTF-8&tbm=isch&source=lnms&sa=X&ved=0ahUKEwjotLC-49z8AhURDkQIHfySANsQ_AUICCgD',\n",
       " 'https://maps.google.com/maps?q=yahoo+finance+GME&um=1&ie=UTF-8&sa=X&ved=0ahUKEwjotLC-49z8AhURDkQIHfySANsQ_AUICSgE',\n",
       " '/search?q=yahoo+finance+GME&ie=UTF-8&tbm=shop&source=lnms&sa=X&ved=0ahUKEwjotLC-49z8AhURDkQIHfySANsQ_AUICigF',\n",
       " '/search?q=yahoo+finance+GME&ie=UTF-8&tbm=bks&source=lnms&sa=X&ved=0ahUKEwjotLC-49z8AhURDkQIHfySANsQ_AUICygG',\n",
       " '/advanced_search',\n",
       " '/search?q=yahoo+finance+GME&ie=UTF-8&tbm=nws&source=lnt&tbs=qdr:h&sa=X&ved=0ahUKEwjotLC-49z8AhURDkQIHfySANsQpwUIDQ',\n",
       " '/search?q=yahoo+finance+GME&ie=UTF-8&tbm=nws&source=lnt&tbs=qdr:d&sa=X&ved=0ahUKEwjotLC-49z8AhURDkQIHfySANsQpwUIDg',\n",
       " '/search?q=yahoo+finance+GME&ie=UTF-8&tbm=nws&source=lnt&tbs=qdr:w&sa=X&ved=0ahUKEwjotLC-49z8AhURDkQIHfySANsQpwUIDw',\n",
       " '/search?q=yahoo+finance+GME&ie=UTF-8&tbm=nws&source=lnt&tbs=qdr:m&sa=X&ved=0ahUKEwjotLC-49z8AhURDkQIHfySANsQpwUIEA',\n",
       " '/search?q=yahoo+finance+GME&ie=UTF-8&tbm=nws&source=lnt&tbs=qdr:y&sa=X&ved=0ahUKEwjotLC-49z8AhURDkQIHfySANsQpwUIEQ',\n",
       " '/search?q=yahoo+finance+GME&ie=UTF-8&tbm=nws&source=lnt&tbs=ar:1&sa=X&ved=0ahUKEwjotLC-49z8AhURDkQIHfySANsQpwUIEg',\n",
       " '/search?q=yahoo+finance+GME&ie=UTF-8&tbm=nws&source=lnt&tbs=sbd:1&sa=X&ved=0ahUKEwjotLC-49z8AhURDkQIHfySANsQpwUIFA',\n",
       " '/url?q=https://finance.yahoo.com/news/meme-stock-billionaire-alibaba-wager-094812107.html&sa=U&ved=2ahUKEwjotLC-49z8AhURDkQIHfySANsQxfQBegQIBhAC&usg=AOvVaw2fgYf_WpqCZSPV0f0m-xUD',\n",
       " '/url?q=https://finance.yahoo.com/news/down-28-91-4-weeks-143502058.html&sa=U&ved=2ahUKEwjotLC-49z8AhURDkQIHfySANsQxfQBegQICRAC&usg=AOvVaw0davpH-ezKHnSdxH13MTnA',\n",
       " '/url?q=https://finance.yahoo.com/news/chamath-palihapitiya-stocks-10-stocks-160502053.html&sa=U&ved=2ahUKEwjotLC-49z8AhURDkQIHfySANsQxfQBegQIAxAC&usg=AOvVaw2415woxZy3tUzfdiNFQ1cH',\n",
       " '/url?q=https://finance.yahoo.com/news/morningstar-ceos-message-to-meme-stock-investors-162841912.html&sa=U&ved=2ahUKEwjotLC-49z8AhURDkQIHfySANsQxfQBegQICBAC&usg=AOvVaw06M-Oc0agot6nODIChB4by',\n",
       " '/url?q=https://finance.yahoo.com/news/my-meme-stock-fiasco-153417561.html&sa=U&ved=2ahUKEwjotLC-49z8AhURDkQIHfySANsQxfQBegQIBRAC&usg=AOvVaw0EfHMkocZGseZyrF5gV6cX',\n",
       " '/url?q=https://finance.yahoo.com/news/the-game-stop-turnaround-promise-is-failing-111117027.html&sa=U&ved=2ahUKEwjotLC-49z8AhURDkQIHfySANsQxfQBegQIAhAC&usg=AOvVaw3SPX_U9bOvh6DD2f__gfBy',\n",
       " '/url?q=https://finance.yahoo.com/news/after-hours-stock-movers-game-stop-rent-the-runway-c-3-ai-and-more-232228102.html&sa=U&ved=2ahUKEwjotLC-49z8AhURDkQIHfySANsQxfQBegQIBBAC&usg=AOvVaw2kOuqJdo7CiXuWcnImUeUS',\n",
       " '/url?q=https://finance.yahoo.com/news/mark-cuban-stock-portfolio-10-211950824.html&sa=U&ved=2ahUKEwjotLC-49z8AhURDkQIHfySANsQxfQBegQIABAC&usg=AOvVaw1lglvVBXPP7DrS7Ly_bdAb',\n",
       " '/url?q=https://finance.yahoo.com/news/why-game-stop-stock-is-probably-dead-money-for-a-while-according-to-one-analyst-180851839.html&sa=U&ved=2ahUKEwjotLC-49z8AhURDkQIHfySANsQxfQBegQIARAC&usg=AOvVaw0HKUL2ZAszoVvnmFXT0r5K',\n",
       " '/url?q=https://finance.yahoo.com/news/meme-stock-mania-5-lessons-220010930.html&sa=U&ved=2ahUKEwjotLC-49z8AhURDkQIHfySANsQxfQBegQIBxAC&usg=AOvVaw0r23sdb0vOf7Mcqxwtzv-h',\n",
       " '/search?q=yahoo+finance+GME&ie=UTF-8&tbm=nws&ei=pALOY-jSBJGckPIP_KWC2A0&start=10&sa=N',\n",
       " '/url?q=https://support.google.com/websearch%3Fp%3Dws_settings_location%26hl%3Den&sa=U&ved=0ahUKEwjotLC-49z8AhURDkQIHfySANsQty4IUw&usg=AOvVaw0pNhiGviDp0CTHGTJSIAPd',\n",
       " '/url?q=https://accounts.google.com/ServiceLogin%3Fcontinue%3Dhttps://www.google.com/search%253Fq%253Dyahoo%252Bfinance%252BGME%2526tbm%253Dnws%26hl%3Den&sa=U&ved=0ahUKEwjotLC-49z8AhURDkQIHfySANsQxs8CCFQ&usg=AOvVaw0dHwe9kPd_ZaKJBpHWD7O0',\n",
       " 'https://www.google.com/preferences?hl=en&fg=1&sa=X&ved=0ahUKEwjotLC-49z8AhURDkQIHfySANsQ5fUCCFU',\n",
       " 'https://policies.google.com/privacy?hl=en&fg=1',\n",
       " 'https://policies.google.com/terms?hl=en&fg=1']"
      ]
     },
     "execution_count": 13,
     "metadata": {},
     "output_type": "execute_result"
    }
   ],
   "source": [
    "raw_urls['GME']"
   ]
  },
  {
   "cell_type": "markdown",
   "metadata": {},
   "source": [
    "## 4.2. Strip out unwanted URLs"
   ]
  },
  {
   "cell_type": "code",
   "execution_count": 14,
   "metadata": {},
   "outputs": [],
   "source": [
    "import re"
   ]
  },
  {
   "cell_type": "code",
   "execution_count": 15,
   "metadata": {},
   "outputs": [],
   "source": [
    "exclude_list = ['maps', 'policies', 'preferences', 'accounts', 'support']"
   ]
  },
  {
   "cell_type": "code",
   "execution_count": 16,
   "metadata": {},
   "outputs": [],
   "source": [
    "def strip_unwanted_urls(urls, exclude_list):\n",
    "    val = []\n",
    "    for url in urls:\n",
    "        if 'https://' in url and not any(exclude_word in url for exclude_word in exclude_list):\n",
    "            res = re.findall(r'(https?://\\S+)', url)[0].split('&')[0]\n",
    "            val.append(res)\n",
    "    return list(set(val))"
   ]
  },
  {
   "cell_type": "code",
   "execution_count": 17,
   "metadata": {
    "collapsed": true
   },
   "outputs": [
    {
     "data": {
      "text/plain": [
       "{'GME': ['https://finance.yahoo.com/news/down-28-91-4-weeks-143502058.html',\n",
       "  'https://finance.yahoo.com/news/mark-cuban-stock-portfolio-10-211950824.html',\n",
       "  'https://finance.yahoo.com/news/why-game-stop-stock-is-probably-dead-money-for-a-while-according-to-one-analyst-180851839.html',\n",
       "  'https://finance.yahoo.com/news/after-hours-stock-movers-game-stop-rent-the-runway-c-3-ai-and-more-232228102.html',\n",
       "  'https://finance.yahoo.com/news/meme-stock-mania-5-lessons-220010930.html',\n",
       "  'https://finance.yahoo.com/news/the-game-stop-turnaround-promise-is-failing-111117027.html',\n",
       "  'https://finance.yahoo.com/news/meme-stock-billionaire-alibaba-wager-094812107.html',\n",
       "  'https://finance.yahoo.com/news/chamath-palihapitiya-stocks-10-stocks-160502053.html',\n",
       "  'https://finance.yahoo.com/news/my-meme-stock-fiasco-153417561.html',\n",
       "  'https://finance.yahoo.com/news/morningstar-ceos-message-to-meme-stock-investors-162841912.html'],\n",
       " 'TSLA': ['https://finance.yahoo.com/video/tech-earnings-expected-next-week-220043104.html',\n",
       "  'https://finance.yahoo.com/news/analysts-cutting-price-targets-10-222450139.html',\n",
       "  'https://www.google.com/search?q%3Dyahoo%2Bfinance%2BTSLA%26tbm%3Dnws%26pccc%3D1',\n",
       "  'https://finance.yahoo.com/news/tesla-china-price-cuts-boosting-buying-sentiment-survey-says-145532342.html',\n",
       "  'https://finance.yahoo.com/news/tesla-tsla-stock-declined-71-115731039.html',\n",
       "  'https://finance.yahoo.com/news/the-tweets-are-truthful-elon-musk-takes-witness-stand-to-defend-2018-tesla-tweet-223444555.html',\n",
       "  'https://finance.yahoo.com/news/elon-musk-could-be-called-friday-in-tesla-tweet-trial-194338256.html',\n",
       "  'https://finance.yahoo.com/news/1-tesla-pushes-back-model-155655672.html',\n",
       "  'https://finance.yahoo.com/news/tesla-drops-top-10-stocks-011730173.html',\n",
       "  'https://finance.yahoo.com/news/pioneer-and-narcissistic-prospective-jurors-sound-off-on-elon-musk-as-jury-selection-begins-in-tesla-tweet-trial-221716158.html',\n",
       "  'https://finance.yahoo.com/news/tesla-tsla-dips-more-broader-224510061.html'],\n",
       " 'BTC': ['https://finance.yahoo.com/news/justice-department-announce-major-international-151142730.html',\n",
       "  'https://finance.yahoo.com/news/markets-bitcoin-ether-fall-u-015117987.html',\n",
       "  'https://finance.yahoo.com/news/is-crypto-better-or-worse-since-its-collapse-heres-what-ceos-at-davos-said-180357129.html',\n",
       "  'https://finance.yahoo.com/news/2-crypto-stocks-gearing-gains-225951344.html',\n",
       "  'https://finance.yahoo.com/news/bitcoin-miner-1thash-sent-almost-212731819.html',\n",
       "  'https://finance.yahoo.com/news/congress-ftx-problem-1-3-152019700.html',\n",
       "  'https://finance.yahoo.com/news/markets-bitcoin-bounces-back-above-024051025.html',\n",
       "  'https://finance.yahoo.com/news/markets-bitcoin-holds-above-us-023001881.html',\n",
       "  'https://finance.yahoo.com/news/genesis-crypto-trading-arm-moving-233332894.html',\n",
       "  'https://finance.yahoo.com/news/nouriel-roubini-crypto-scam-144628068.html']}"
      ]
     },
     "execution_count": 17,
     "metadata": {},
     "output_type": "execute_result"
    }
   ],
   "source": [
    "cleaned_urls = {ticker: strip_unwanted_urls(raw_urls[ticker], exclude_list) for ticker in monitored_tickers}\n",
    "cleaned_urls"
   ]
  },
  {
   "cell_type": "markdown",
   "metadata": {},
   "source": [
    "## 4.3. Search and Scrape Cleaned URLs"
   ]
  },
  {
   "cell_type": "code",
   "execution_count": 18,
   "metadata": {},
   "outputs": [],
   "source": [
    "def scrape_and_process(URLs):\n",
    "    ARTICLES = []\n",
    "    for url in URLs:\n",
    "        r = requests.get(url)\n",
    "        soup = BeautifulSoup(r.text, 'html.parser')\n",
    "        paragraphs = soup.find_all('p')\n",
    "        text = [paragraph.text for paragraph in paragraphs]\n",
    "        words = ' '.join(text).split(' ')[:350]\n",
    "        ARTICLE = ' '.join(words)\n",
    "        ARTICLES.append(ARTICLE)\n",
    "    return ARTICLES"
   ]
  },
  {
   "cell_type": "code",
   "execution_count": null,
   "metadata": {},
   "outputs": [],
   "source": [
    "articles = {ticker: scrape_and_process(cleaned_urls[ticker]) for ticker in monitored_tickers}\n",
    "articles"
   ]
  },
  {
   "cell_type": "code",
   "execution_count": null,
   "metadata": {},
   "outputs": [],
   "source": [
    "articles['TSLA'][2]"
   ]
  },
  {
   "cell_type": "markdown",
   "metadata": {},
   "source": [
    "## 4.4. Summarise all Articles"
   ]
  },
  {
   "cell_type": "code",
   "execution_count": null,
   "metadata": {},
   "outputs": [],
   "source": [
    "def summarize(articles):\n",
    "    summaries = []\n",
    "    for article in articles:\n",
    "        input_ids = tokenizer.encode(article, return_tensors='pt')\n",
    "        output = model.generate(input_ids, max_length=55,\n",
    "                                num_beams=5, early_stopping=True)\n",
    "        summary = tokenizer.decode(output[0], skip_special_tokens=True)\n",
    "        summaries.append(summary)\n",
    "    return summaries"
   ]
  },
  {
   "cell_type": "code",
   "execution_count": null,
   "metadata": {},
   "outputs": [],
   "source": [
    "summaries = {ticker: summarize(articles[ticker]) for ticker in monitored_tickers}\n",
    "summaries"
   ]
  },
  {
   "cell_type": "code",
   "execution_count": null,
   "metadata": {},
   "outputs": [],
   "source": [
    "summaries['BTC']"
   ]
  },
  {
   "cell_type": "markdown",
   "metadata": {},
   "source": [
    "# 5. Adding Sentiment Analysis"
   ]
  },
  {
   "cell_type": "code",
   "execution_count": null,
   "metadata": {},
   "outputs": [],
   "source": [
    "from transformers import pipeline\n",
    "sentiment = pipeline('sentiment-analysis')"
   ]
  },
  {
   "cell_type": "code",
   "execution_count": null,
   "metadata": {},
   "outputs": [],
   "source": [
    "sentiment(summaries['BTC'])"
   ]
  },
  {
   "cell_type": "code",
   "execution_count": null,
   "metadata": {},
   "outputs": [],
   "source": [
    "scores = {ticker: sentiment(summaries[ticker]) for ticker in monitored_tickers}\n",
    "scores"
   ]
  },
  {
   "cell_type": "code",
   "execution_count": null,
   "metadata": {},
   "outputs": [],
   "source": [
    "print(summaries['GME'][3], scores['GME'][3]['label'], scores['GME'][3]['score'])"
   ]
  },
  {
   "cell_type": "code",
   "execution_count": null,
   "metadata": {},
   "outputs": [],
   "source": [
    "scores['BTC'][0]['score']"
   ]
  },
  {
   "cell_type": "markdown",
   "metadata": {},
   "source": [
    "# 6. Exporting Results to CSV"
   ]
  },
  {
   "cell_type": "code",
   "execution_count": null,
   "metadata": {},
   "outputs": [],
   "source": [
    "summaries"
   ]
  },
  {
   "cell_type": "code",
   "execution_count": null,
   "metadata": {},
   "outputs": [],
   "source": [
    "scores"
   ]
  },
  {
   "cell_type": "code",
   "execution_count": null,
   "metadata": {},
   "outputs": [],
   "source": [
    "cleaned_urls"
   ]
  },
  {
   "cell_type": "code",
   "execution_count": null,
   "metadata": {},
   "outputs": [],
   "source": [
    "range(len(summaries['GME']))"
   ]
  },
  {
   "cell_type": "code",
   "execution_count": null,
   "metadata": {},
   "outputs": [],
   "source": [
    "summaries['GME'][3]"
   ]
  },
  {
   "cell_type": "code",
   "execution_count": null,
   "metadata": {},
   "outputs": [],
   "source": [
    "def create_output_array(summaries, scores, urls):\n",
    "    output = []\n",
    "    for ticker in monitored_tickers:\n",
    "        for counter in range(len(summaries[ticker])):\n",
    "            output_this = [\n",
    "                ticker,\n",
    "                summaries[ticker][counter],\n",
    "                scores[ticker][counter]['label'],\n",
    "                scores[ticker][counter]['score'],\n",
    "                urls[ticker][counter]\n",
    "            ]\n",
    "            output.append(output_this)\n",
    "    return output"
   ]
  },
  {
   "cell_type": "code",
   "execution_count": null,
   "metadata": {},
   "outputs": [],
   "source": [
    "final_output = create_output_array(summaries, scores, cleaned_urls)\n",
    "final_output"
   ]
  },
  {
   "cell_type": "code",
   "execution_count": null,
   "metadata": {},
   "outputs": [],
   "source": [
    "final_output.insert(0, ['Ticker', 'Summary', 'Label', 'Confidence', 'URL'])"
   ]
  },
  {
   "cell_type": "code",
   "execution_count": null,
   "metadata": {},
   "outputs": [],
   "source": [
    "final_output"
   ]
  },
  {
   "cell_type": "code",
   "execution_count": null,
   "metadata": {},
   "outputs": [],
   "source": [
    "import csv\n",
    "with open('assetsummaries.csv', mode='w', newline='') as f:\n",
    "    csv_writer = csv.writer(f, delimiter=',', quotechar='\"', quoting=csv.QUOTE_MINIMAL)\n",
    "    csv_writer.writerows(final_output)"
   ]
  },
  {
   "cell_type": "code",
   "execution_count": null,
   "metadata": {},
   "outputs": [],
   "source": []
  },
  {
   "cell_type": "code",
   "execution_count": null,
   "metadata": {},
   "outputs": [],
   "source": []
  },
  {
   "cell_type": "code",
   "execution_count": null,
   "metadata": {},
   "outputs": [],
   "source": []
  }
 ],
 "metadata": {
  "kernelspec": {
   "display_name": "Python 3 (ipykernel)",
   "language": "python",
   "name": "python3"
  },
  "language_info": {
   "codemirror_mode": {
    "name": "ipython",
    "version": 3
   },
   "file_extension": ".py",
   "mimetype": "text/x-python",
   "name": "python",
   "nbconvert_exporter": "python",
   "pygments_lexer": "ipython3",
   "version": "3.9.13"
  }
 },
 "nbformat": 4,
 "nbformat_minor": 2
}
