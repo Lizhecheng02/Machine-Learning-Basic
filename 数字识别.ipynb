{
 "cells": [
  {
   "cell_type": "code",
   "execution_count": 1,
   "id": "e1f76e9f-f1bc-4e4e-8ae3-4fe31fd83c74",
   "metadata": {},
   "outputs": [],
   "source": [
    "from keras.utils import to_categorical\n",
    "from keras import models, layers, regularizers\n",
    "from keras.optimizers import RMSprop\n",
    "from keras.datasets import mnist\n",
    "import matplotlib.pyplot as plt"
   ]
  },
  {
   "cell_type": "code",
   "execution_count": 2,
   "id": "71793625-f61d-440a-8335-2bed047a5006",
   "metadata": {},
   "outputs": [],
   "source": [
    "(train_images, train_labels), (test_images, test_labels) = mnist.load_data()"
   ]
  },
  {
   "cell_type": "code",
   "execution_count": 3,
   "id": "ad7d8496-b6ca-4ed3-87a7-33aa191eac10",
   "metadata": {},
   "outputs": [],
   "source": [
    "train_images = train_images.reshape((60000, 784)).astype('float')\n",
    "test_images = test_images.reshape((10000, 784)).astype('float')\n",
    "train_labels = to_categorical(train_labels)\n",
    "test_labels = to_categorical(test_labels)"
   ]
  },
  {
   "cell_type": "code",
   "execution_count": 4,
   "id": "70ab421c-d197-45cd-860c-a12fe3ff64f8",
   "metadata": {},
   "outputs": [],
   "source": [
    "network = models.Sequential()\n",
    "network.add(layers.Dense(units=128, activation='relu', input_shape=(\n",
    "    784, ), kernel_regularizer=regularizers.l1(0.0001)))\n",
    "network.add(layers.Dropout(0.01))\n",
    "network.add(layers.Dense(units=64, activation='relu',\n",
    "            kernel_regularizer=regularizers.l1(0.0001)))\n",
    "network.add(layers.Dropout(0.01))\n",
    "network.add(layers.Dense(units=32, activation='relu',\n",
    "            kernel_regularizer=regularizers.l1(0.0001)))\n",
    "network.add(layers.Dropout(0.01))\n",
    "network.add(layers.Dense(units=10, activation='softmax'))"
   ]
  },
  {
   "cell_type": "code",
   "execution_count": 5,
   "id": "90d55f91-4ad8-43e5-b731-e77d6e3fd9a0",
   "metadata": {},
   "outputs": [
    {
     "name": "stdout",
     "output_type": "stream",
     "text": [
      "Epoch 1/20\n",
      "469/469 - 4s - loss: 2.2547 - accuracy: 0.7799 - 4s/epoch - 9ms/step\n",
      "Epoch 2/20\n",
      "469/469 - 2s - loss: 0.5658 - accuracy: 0.9114 - 2s/epoch - 5ms/step\n",
      "Epoch 3/20\n",
      "469/469 - 2s - loss: 0.3998 - accuracy: 0.9429 - 2s/epoch - 5ms/step\n",
      "Epoch 4/20\n",
      "469/469 - 3s - loss: 0.3331 - accuracy: 0.9548 - 3s/epoch - 6ms/step\n",
      "Epoch 5/20\n",
      "469/469 - 2s - loss: 0.2927 - accuracy: 0.9602 - 2s/epoch - 5ms/step\n",
      "Epoch 6/20\n",
      "469/469 - 3s - loss: 0.2657 - accuracy: 0.9646 - 3s/epoch - 6ms/step\n",
      "Epoch 7/20\n",
      "469/469 - 3s - loss: 0.2418 - accuracy: 0.9679 - 3s/epoch - 6ms/step\n",
      "Epoch 8/20\n",
      "469/469 - 3s - loss: 0.2304 - accuracy: 0.9701 - 3s/epoch - 6ms/step\n",
      "Epoch 9/20\n",
      "469/469 - 2s - loss: 0.2204 - accuracy: 0.9712 - 2s/epoch - 5ms/step\n",
      "Epoch 10/20\n",
      "469/469 - 3s - loss: 0.2104 - accuracy: 0.9725 - 3s/epoch - 6ms/step\n",
      "Epoch 11/20\n",
      "469/469 - 3s - loss: 0.1982 - accuracy: 0.9736 - 3s/epoch - 5ms/step\n",
      "Epoch 12/20\n",
      "469/469 - 3s - loss: 0.1972 - accuracy: 0.9738 - 3s/epoch - 6ms/step\n",
      "Epoch 13/20\n",
      "469/469 - 3s - loss: 0.1936 - accuracy: 0.9747 - 3s/epoch - 7ms/step\n",
      "Epoch 14/20\n",
      "469/469 - 3s - loss: 0.1876 - accuracy: 0.9749 - 3s/epoch - 6ms/step\n",
      "Epoch 15/20\n",
      "469/469 - 2s - loss: 0.1833 - accuracy: 0.9747 - 2s/epoch - 5ms/step\n",
      "Epoch 16/20\n",
      "469/469 - 2s - loss: 0.1812 - accuracy: 0.9751 - 2s/epoch - 5ms/step\n",
      "Epoch 17/20\n",
      "469/469 - 2s - loss: 0.1771 - accuracy: 0.9761 - 2s/epoch - 5ms/step\n",
      "Epoch 18/20\n",
      "469/469 - 3s - loss: 0.1792 - accuracy: 0.9761 - 3s/epoch - 5ms/step\n",
      "Epoch 19/20\n",
      "469/469 - 3s - loss: 0.1742 - accuracy: 0.9766 - 3s/epoch - 6ms/step\n",
      "Epoch 20/20\n",
      "469/469 - 3s - loss: 0.1733 - accuracy: 0.9763 - 3s/epoch - 6ms/step\n"
     ]
    },
    {
     "data": {
      "text/plain": [
       "<keras.callbacks.History at 0x1a250388f70>"
      ]
     },
     "execution_count": 5,
     "metadata": {},
     "output_type": "execute_result"
    }
   ],
   "source": [
    "network.compile(optimizer=RMSprop(learning_rate=0.001),\n",
    "                loss='categorical_crossentropy', metrics=['accuracy'])\n",
    "network.fit(train_images, train_labels, epochs=20, batch_size=128, verbose=2)"
   ]
  },
  {
   "cell_type": "code",
   "execution_count": 6,
   "id": "a1f0a1f1-03b4-400a-b80e-13da0ccb1140",
   "metadata": {},
   "outputs": [
    {
     "name": "stdout",
     "output_type": "stream",
     "text": [
      "313/313 [==============================] - 1s 2ms/step - loss: 0.2072 - accuracy: 0.9714\n",
      "test_loss: 0.2071908414363861    test_accuracy: 0.9714000225067139\n"
     ]
    }
   ],
   "source": [
    "test_loss, test_accuracy = network.evaluate(test_images, test_labels)\n",
    "print(\"test_loss:\", test_loss, \"   test_accuracy:\", test_accuracy)"
   ]
  },
  {
   "cell_type": "code",
   "execution_count": 7,
   "id": "cf4cdc54-06cb-4a68-9512-b7e9ddf795a6",
   "metadata": {},
   "outputs": [],
   "source": [
    "(train_images, train_labels), (test_images, test_labels) = mnist.load_data()"
   ]
  },
  {
   "cell_type": "code",
   "execution_count": 8,
   "id": "973e177d-2bb3-4dda-bf1b-11ef8dd96f30",
   "metadata": {},
   "outputs": [],
   "source": [
    "train_images = train_images.reshape((60000, 28, 28, 1)).astype('float') / 255\n",
    "test_images = test_images.reshape((10000, 28, 28, 1)).astype('float') / 255\n",
    "train_labels = to_categorical(train_labels)\n",
    "test_labels = to_categorical(test_labels)"
   ]
  },
  {
   "cell_type": "code",
   "execution_count": 9,
   "id": "ae62fc06-5d20-47ad-b579-bb6e2a5ad891",
   "metadata": {},
   "outputs": [],
   "source": [
    "def LeNet():\n",
    "    network = models.Sequential()\n",
    "    network.add(layers.Conv2D(filters=6, kernel_size=(3, 3),\n",
    "                activation='relu', input_shape=(28, 28, 1)))\n",
    "    network.add(layers.AveragePooling2D((2, 2)))\n",
    "    network.add(layers.Conv2D(\n",
    "        filters=16, kernel_size=(3, 3), activation='relu'))\n",
    "    network.add(layers.AveragePooling2D((2, 2)))\n",
    "    network.add(layers.Conv2D(\n",
    "        filters=120, kernel_size=(3, 3), activation='relu'))\n",
    "    network.add(layers.Flatten())\n",
    "    network.add(layers.Dense(84, activation='relu'))\n",
    "    network.add(layers.Dense(10, activation='softmax'))\n",
    "    return network\n",
    "\n",
    "\n",
    "network = LeNet()\n",
    "network.compile(optimizer=RMSprop(learning_rate=0.001),\n",
    "                loss='categorical_crossentropy', metrics=['accuracy'])"
   ]
  },
  {
   "cell_type": "code",
   "execution_count": 10,
   "id": "1de6a397-18ec-43ca-bffb-37680e630481",
   "metadata": {},
   "outputs": [
    {
     "name": "stdout",
     "output_type": "stream",
     "text": [
      "Epoch 1/10\n",
      "469/469 - 13s - loss: 0.3475 - accuracy: 0.8947 - 13s/epoch - 28ms/step\n",
      "Epoch 2/10\n",
      "469/469 - 12s - loss: 0.0975 - accuracy: 0.9701 - 12s/epoch - 25ms/step\n",
      "Epoch 3/10\n",
      "469/469 - 11s - loss: 0.0616 - accuracy: 0.9802 - 11s/epoch - 24ms/step\n",
      "Epoch 4/10\n",
      "469/469 - 12s - loss: 0.0457 - accuracy: 0.9857 - 12s/epoch - 25ms/step\n",
      "Epoch 5/10\n",
      "469/469 - 11s - loss: 0.0362 - accuracy: 0.9887 - 11s/epoch - 24ms/step\n",
      "Epoch 6/10\n",
      "469/469 - 12s - loss: 0.0297 - accuracy: 0.9908 - 12s/epoch - 25ms/step\n",
      "Epoch 7/10\n",
      "469/469 - 14s - loss: 0.0253 - accuracy: 0.9923 - 14s/epoch - 29ms/step\n",
      "Epoch 8/10\n",
      "469/469 - 12s - loss: 0.0221 - accuracy: 0.9934 - 12s/epoch - 26ms/step\n",
      "Epoch 9/10\n",
      "469/469 - 11s - loss: 0.0178 - accuracy: 0.9942 - 11s/epoch - 24ms/step\n",
      "Epoch 10/10\n",
      "469/469 - 11s - loss: 0.0160 - accuracy: 0.9947 - 11s/epoch - 24ms/step\n"
     ]
    },
    {
     "data": {
      "text/plain": [
       "<keras.callbacks.History at 0x1a2528e4eb0>"
      ]
     },
     "execution_count": 10,
     "metadata": {},
     "output_type": "execute_result"
    }
   ],
   "source": [
    "network.fit(train_images, train_labels, epochs=10, batch_size=128, verbose=2)"
   ]
  },
  {
   "cell_type": "code",
   "execution_count": 11,
   "id": "4ebfceb3-e2aa-46ae-8a6a-a268ccbac040",
   "metadata": {},
   "outputs": [
    {
     "name": "stdout",
     "output_type": "stream",
     "text": [
      "313/313 [==============================] - 2s 5ms/step - loss: 0.0323 - accuracy: 0.9898\n",
      "test_loss: 0.0323498360812664    test_accuracy: 0.989799976348877\n"
     ]
    }
   ],
   "source": [
    "test_loss, test_accuracy = network.evaluate(test_images, test_labels)\n",
    "print(\"test_loss:\", test_loss, \"   test_accuracy:\", test_accuracy)"
   ]
  },
  {
   "cell_type": "code",
   "execution_count": null,
   "id": "a1c37e6d-465d-44ae-8bd1-a9ae7c8dbc4c",
   "metadata": {},
   "outputs": [],
   "source": []
  }
 ],
 "metadata": {
  "kernelspec": {
   "display_name": "Python 3 (ipykernel)",
   "language": "python",
   "name": "python3"
  },
  "language_info": {
   "codemirror_mode": {
    "name": "ipython",
    "version": 3
   },
   "file_extension": ".py",
   "mimetype": "text/x-python",
   "name": "python",
   "nbconvert_exporter": "python",
   "pygments_lexer": "ipython3",
   "version": "3.9.13"
  }
 },
 "nbformat": 4,
 "nbformat_minor": 5
}
